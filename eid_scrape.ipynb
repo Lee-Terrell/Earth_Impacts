{
 "cells": [
  {
   "cell_type": "code",
   "execution_count": 1,
   "metadata": {},
   "outputs": [],
   "source": [
    "import pandas as pd\n"
   ]
  },
  {
   "cell_type": "code",
   "execution_count": 2,
   "metadata": {},
   "outputs": [],
   "source": [
    "eid_site = 'http://www.passc.net/EarthImpactDatabase/New%20website_05-2018/Namesort.html'"
   ]
  },
  {
   "cell_type": "code",
   "execution_count": 13,
   "metadata": {},
   "outputs": [],
   "source": [
    "impact_df = pd.read_html(eid_site,header=0,extract_links='body')[0]"
   ]
  },
  {
   "cell_type": "code",
   "execution_count": 14,
   "metadata": {},
   "outputs": [
    {
     "data": {
      "text/html": [
       "<div>\n",
       "<style scoped>\n",
       "    .dataframe tbody tr th:only-of-type {\n",
       "        vertical-align: middle;\n",
       "    }\n",
       "\n",
       "    .dataframe tbody tr th {\n",
       "        vertical-align: top;\n",
       "    }\n",
       "\n",
       "    .dataframe thead tr th {\n",
       "        text-align: left;\n",
       "    }\n",
       "</style>\n",
       "<table border=\"1\" class=\"dataframe\">\n",
       "  <thead>\n",
       "    <tr>\n",
       "      <th></th>\n",
       "      <th>Structure Name</th>\n",
       "      <th>Location</th>\n",
       "    </tr>\n",
       "    <tr>\n",
       "      <th></th>\n",
       "      <th>NaN</th>\n",
       "      <th>NaN</th>\n",
       "    </tr>\n",
       "  </thead>\n",
       "  <tbody>\n",
       "    <tr>\n",
       "      <th>0</th>\n",
       "      <td>(Acraman, Acraman.html)</td>\n",
       "      <td>(South Australia, None)</td>\n",
       "    </tr>\n",
       "    <tr>\n",
       "      <th>1</th>\n",
       "      <td>(Amelia Creek, Ameliacreek.html)</td>\n",
       "      <td>(Northern Territory, Australia, None)</td>\n",
       "    </tr>\n",
       "    <tr>\n",
       "      <th>2</th>\n",
       "      <td>(Ames, Ames.html)</td>\n",
       "      <td>(Oklahoma, U.S.A., None)</td>\n",
       "    </tr>\n",
       "    <tr>\n",
       "      <th>3</th>\n",
       "      <td>(Amguid, Amguid.html)</td>\n",
       "      <td>(Algeria, None)</td>\n",
       "    </tr>\n",
       "    <tr>\n",
       "      <th>4</th>\n",
       "      <td>(Aorounga, Aorounga.html)</td>\n",
       "      <td>(Chad, None)</td>\n",
       "    </tr>\n",
       "    <tr>\n",
       "      <th>...</th>\n",
       "      <td>...</td>\n",
       "      <td>...</td>\n",
       "    </tr>\n",
       "    <tr>\n",
       "      <th>194</th>\n",
       "      <td>(Yallalie, Yallalie.html)</td>\n",
       "      <td>(Western Australia, None)</td>\n",
       "    </tr>\n",
       "    <tr>\n",
       "      <th>195</th>\n",
       "      <td>(Yarrabubba, Yarrabubba.html)</td>\n",
       "      <td>(Western Australia, None)</td>\n",
       "    </tr>\n",
       "    <tr>\n",
       "      <th>196</th>\n",
       "      <td>(Zapadnaya, Zapadnaya.html)</td>\n",
       "      <td>(Ukraine, None)</td>\n",
       "    </tr>\n",
       "    <tr>\n",
       "      <th>197</th>\n",
       "      <td>(Zeleny Gai, Zelenygai.html)</td>\n",
       "      <td>(Ukraine, None)</td>\n",
       "    </tr>\n",
       "    <tr>\n",
       "      <th>198</th>\n",
       "      <td>(Zhamanshin, Zhamanshin.html)</td>\n",
       "      <td>(Kazakhstan, None)</td>\n",
       "    </tr>\n",
       "  </tbody>\n",
       "</table>\n",
       "<p>199 rows × 2 columns</p>\n",
       "</div>"
      ],
      "text/plain": [
       "                       Structure Name                               Location\n",
       "                                  NaN                                    NaN\n",
       "0             (Acraman, Acraman.html)                (South Australia, None)\n",
       "1    (Amelia Creek, Ameliacreek.html)  (Northern Territory, Australia, None)\n",
       "2                   (Ames, Ames.html)               (Oklahoma, U.S.A., None)\n",
       "3               (Amguid, Amguid.html)                        (Algeria, None)\n",
       "4           (Aorounga, Aorounga.html)                           (Chad, None)\n",
       "..                                ...                                    ...\n",
       "194         (Yallalie, Yallalie.html)              (Western Australia, None)\n",
       "195     (Yarrabubba, Yarrabubba.html)              (Western Australia, None)\n",
       "196       (Zapadnaya, Zapadnaya.html)                        (Ukraine, None)\n",
       "197      (Zeleny Gai, Zelenygai.html)                        (Ukraine, None)\n",
       "198     (Zhamanshin, Zhamanshin.html)                     (Kazakhstan, None)\n",
       "\n",
       "[199 rows x 2 columns]"
      ]
     },
     "execution_count": 14,
     "metadata": {},
     "output_type": "execute_result"
    }
   ],
   "source": [
    "impact_df"
   ]
  },
  {
   "cell_type": "code",
   "execution_count": 26,
   "metadata": {},
   "outputs": [],
   "source": [
    "# Drop the secondary header\n",
    "impact_df = impact_df.droplevel(1, axis=1)"
   ]
  },
  {
   "cell_type": "code",
   "execution_count": 28,
   "metadata": {},
   "outputs": [
    {
     "data": {
      "text/plain": [
       "'Acraman.html'"
      ]
     },
     "execution_count": 28,
     "metadata": {},
     "output_type": "execute_result"
    }
   ],
   "source": [
    "# Extract links into their own DF column\n",
    "\n",
    "impact_df['Structure Name'].loc[0][1]\n"
   ]
  },
  {
   "cell_type": "code",
   "execution_count": null,
   "metadata": {},
   "outputs": [],
   "source": []
  }
 ],
 "metadata": {
  "kernelspec": {
   "display_name": "obb",
   "language": "python",
   "name": "python3"
  },
  "language_info": {
   "codemirror_mode": {
    "name": "ipython",
    "version": 3
   },
   "file_extension": ".py",
   "mimetype": "text/x-python",
   "name": "python",
   "nbconvert_exporter": "python",
   "pygments_lexer": "ipython3",
   "version": "3.9.6"
  },
  "orig_nbformat": 4
 },
 "nbformat": 4,
 "nbformat_minor": 2
}
